{
  "nbformat": 4,
  "nbformat_minor": 0,
  "metadata": {
    "colab": {
      "name": "HW4.ipynb",
      "provenance": [],
      "include_colab_link": true
    },
    "kernelspec": {
      "name": "python3",
      "display_name": "Python 3"
    }
  },
  "cells": [
    {
      "cell_type": "markdown",
      "metadata": {
        "id": "view-in-github",
        "colab_type": "text"
      },
      "source": [
        "<a href=\"https://colab.research.google.com/github/bbwolcott/nyu-python-public-policy/blob/master/HW4.ipynb\" target=\"_parent\"><img src=\"https://colab.research.google.com/assets/colab-badge.svg\" alt=\"Open In Colab\"/></a>"
      ]
    },
    {
      "cell_type": "markdown",
      "metadata": {
        "id": "gAE4VDv9f5md",
        "colab_type": "text"
      },
      "source": [
        "Problem Statement: When comparing total 311 request counts per community district against the respective population, there seems to be a general trend that the higher the population, the higher the number of 311 requests. However, there is a lot of variance in the data. Maybe narrowing in on specific complaint type categories will help us better understand trends in 311 requests across the city.\n",
        "\n",
        "\"Noise\" and \"heat and hot water\" were the most frequest requests in the entire 311 dataset. Let's try isolating the count of requests in each of those two categories versus all the other complaints."
      ]
    },
    {
      "cell_type": "code",
      "metadata": {
        "id": "VABDoKoYgZLy",
        "colab_type": "code",
        "colab": {}
      },
      "source": [
        "import pandas as pd\n",
        "from google.colab import drive"
      ],
      "execution_count": 0,
      "outputs": []
    },
    {
      "cell_type": "code",
      "metadata": {
        "id": "7xkdiE_egaF-",
        "colab_type": "code",
        "colab": {}
      },
      "source": [
        "import matplotlib.pyplot as plt \n",
        "import numpy as np"
      ],
      "execution_count": 0,
      "outputs": []
    },
    {
      "cell_type": "code",
      "metadata": {
        "id": "mVhB3M48gco-",
        "colab_type": "code",
        "colab": {}
      },
      "source": [
        "# You can use pd.set_option() to make sure you see all the rows and columns in your dataframe\n",
        "pd.set_option('display.max_columns', None)\n",
        "pd.set_option('display.max_rows', None)"
      ],
      "execution_count": 0,
      "outputs": []
    },
    {
      "cell_type": "code",
      "metadata": {
        "id": "NLxh_q4OgfNF",
        "colab_type": "code",
        "colab": {
          "base_uri": "https://localhost:8080/",
          "height": 122
        },
        "outputId": "c25d1359-4f1b-4b4e-8a41-40b1c93fdecb"
      },
      "source": [
        "drive.mount('/content/drive')\n",
        "# follow the link it generates, choose your account, and then paste in the authorization code it provides"
      ],
      "execution_count": 4,
      "outputs": [
        {
          "output_type": "stream",
          "text": [
            "Go to this URL in a browser: https://accounts.google.com/o/oauth2/auth?client_id=947318989803-6bn6qk8qdgf4n4g3pfee6491hc0brc4i.apps.googleusercontent.com&redirect_uri=urn%3aietf%3awg%3aoauth%3a2.0%3aoob&response_type=code&scope=email%20https%3a%2f%2fwww.googleapis.com%2fauth%2fdocs.test%20https%3a%2f%2fwww.googleapis.com%2fauth%2fdrive%20https%3a%2f%2fwww.googleapis.com%2fauth%2fdrive.photos.readonly%20https%3a%2f%2fwww.googleapis.com%2fauth%2fpeopleapi.readonly\n",
            "\n",
            "Enter your authorization code:\n",
            "··········\n",
            "Mounted at /content/drive\n"
          ],
          "name": "stdout"
        }
      ]
    },
    {
      "cell_type": "code",
      "metadata": {
        "id": "aRPeXWE-gtWP",
        "colab_type": "code",
        "colab": {
          "base_uri": "https://localhost:8080/",
          "height": 71
        },
        "outputId": "4f3c8379-282f-4edb-9a37-6970ddeb9bf9"
      },
      "source": [
        "df = pd.read_csv('/content/drive/My Drive/Data for Python/cleaned_311_data.csv', header='infer')"
      ],
      "execution_count": 5,
      "outputs": [
        {
          "output_type": "stream",
          "text": [
            "/usr/local/lib/python3.6/dist-packages/IPython/core/interactiveshell.py:2718: DtypeWarning: Columns (9,18,21,32,35) have mixed types. Specify dtype option on import or set low_memory=False.\n",
            "  interactivity=interactivity, compiler=compiler, result=result)\n"
          ],
          "name": "stderr"
        }
      ]
    },
    {
      "cell_type": "markdown",
      "metadata": {
        "id": "abgpZffFiH9m",
        "colab_type": "text"
      },
      "source": [
        "- **Step 1**. First you will need to prep your data to get the count of complaints in each of the three categories. You can update the code from lecture that gets the total count of 311 requests per CD to instead get the count of 311 requests per CD that meet the criteria for the 3 categories. You should create three seprate dataframes, one per category:\n",
        "\n",
        "  1. `complaint_type = 'Noise - Residential'`\n",
        "  2. `complaint_type = 'HEAT/HOT WATER'`\n",
        "  3. Everything else: `(complaint_type != 'Noise - Residential' and complaint_type != 'HEAT/HOT WATER')`"
      ]
    },
    {
      "cell_type": "code",
      "metadata": {
        "id": "yenGMlubs2OH",
        "colab_type": "code",
        "colab": {}
      },
      "source": [
        "# this function will recode the community_board value into borocd in a new column\n",
        "  def recode_borocd_counts(row):\n",
        "    if row.community_board[0] != 'U':\n",
        "      if 'MANHATTAN' in row.community_board:\n",
        "        return '1' + row.community_board[:2]\n",
        "      elif 'BRONX' in row.community_board:\n",
        "        return '2' + row.community_board[:2]\n",
        "      elif 'BROOKLYN' in row.community_board:\n",
        "        return '3' + row.community_board[:2]\n",
        "      elif 'QUEENS' in row.community_board:\n",
        "        return '4' + row.community_board[:2]\n",
        "      elif 'STATEN ISLAND' in row.community_board:\n",
        "        return '5' + row.community_board[:2]\n",
        "    else:\n",
        "      return 'Invalid borocd'\n"
      ],
      "execution_count": 0,
      "outputs": []
    },
    {
      "cell_type": "code",
      "metadata": {
        "id": "OOPY4OI6g8OU",
        "colab_type": "code",
        "colab": {
          "base_uri": "https://localhost:8080/",
          "height": 1000
        },
        "outputId": "8e701f8e-4b0d-4dbc-bcd8-b4e798c2606a"
      },
      "source": [
        "cb_noise_counts = df[df.complaint_type == 'Noise - Residential'].groupby('community_board').size().reset_index(name='count_of_noise')\n",
        "cb_noise_counts['community_board'] = cb_noise_counts.apply(recode_borocd_counts, axis=1)\n",
        "cb_noise_counts=cb_noise_counts.drop(cb_noise_counts.index[0])\n",
        "cb_noise_counts=cb_noise_counts[cb_noise_counts['count_of_noise']>200]\n",
        "cb_noise_counts=cb_noise_counts[cb_noise_counts.community_board!= \"Invalid borocd\"]\n",
        "cb_noise_counts.head\n"
      ],
      "execution_count": 127,
      "outputs": [
        {
          "output_type": "execute_result",
          "data": {
            "text/plain": [
              "<bound method NDFrame.head of    community_board  count_of_noise\n",
              "1              201            3691\n",
              "2              301            5844\n",
              "3              101             722\n",
              "4              401            4589\n",
              "5              501            5052\n",
              "6              202            1939\n",
              "7              302            3795\n",
              "8              102            1837\n",
              "9              402            2279\n",
              "10             502            1592\n",
              "11             203            4238\n",
              "12             303            7898\n",
              "13             103            6272\n",
              "14             403            3881\n",
              "15             503            1188\n",
              "16             204            7407\n",
              "17             304            6394\n",
              "18             104            2702\n",
              "19             404            2710\n",
              "20             205            6819\n",
              "21             305            5225\n",
              "22             105             741\n",
              "23             405            4911\n",
              "24             206            3871\n",
              "25             306            1884\n",
              "26             106            2078\n",
              "27             406            1835\n",
              "28             207            9207\n",
              "29             307            1948\n",
              "30             107            4297\n",
              "31             407            3276\n",
              "32             208            4406\n",
              "33             308            4068\n",
              "34             108            2283\n",
              "35             408            4429\n",
              "36             209            5037\n",
              "37             309            4238\n",
              "38             109            4586\n",
              "39             409            5048\n",
              "40             210            2305\n",
              "41             310            1837\n",
              "42             110            7659\n",
              "43             410            5213\n",
              "44             211            5227\n",
              "45             311            1974\n",
              "46             111            4953\n",
              "47             411             810\n",
              "48             212            5585\n",
              "49             312            1901\n",
              "50             112           11755\n",
              "51             412            6119\n",
              "52             313            2118\n",
              "53             413            2872\n",
              "54             314            4884\n",
              "55             414            2848\n",
              "56             315            2429\n",
              "57             316            3161\n",
              "58             317            4736\n",
              "59             318            3168>"
            ]
          },
          "metadata": {
            "tags": []
          },
          "execution_count": 127
        }
      ]
    },
    {
      "cell_type": "code",
      "metadata": {
        "id": "Omao6HAakO1k",
        "colab_type": "code",
        "colab": {
          "base_uri": "https://localhost:8080/",
          "height": 1000
        },
        "outputId": "ec7a0f6d-0359-4948-90e0-4a362f05e8fc"
      },
      "source": [
        "cb_water_counts = df[df.complaint_type == 'HEAT/HOT WATER'].groupby('community_board').size().reset_index(name='count_of_water')\n",
        "cb_water_counts['community_board'] = cb_water_counts.apply(recode_borocd_counts, axis=1)\n",
        "cb_water_counts=cb_water_counts[cb_water_counts['count_of_water']>100]\n",
        "cb_water_counts=cb_water_counts[cb_water_counts.community_board!= \"Invalid borocd\"]\n",
        "cb_water_counts.head"
      ],
      "execution_count": 133,
      "outputs": [
        {
          "output_type": "execute_result",
          "data": {
            "text/plain": [
              "<bound method NDFrame.head of    community_board  count_of_water\n",
              "0              201            3346\n",
              "1              301            2868\n",
              "2              101             276\n",
              "3              401            2466\n",
              "4              501            1644\n",
              "5              202            2364\n",
              "6              302            1189\n",
              "7              102            1649\n",
              "8              402            2018\n",
              "9              502             401\n",
              "10             203            3761\n",
              "11             303            5460\n",
              "12             103            3741\n",
              "13             403            2127\n",
              "14             503             208\n",
              "15             204           10942\n",
              "16             304            2537\n",
              "17             104            2113\n",
              "18             404            5373\n",
              "19             205            9555\n",
              "20             305            4204\n",
              "21             105             676\n",
              "22             405            1954\n",
              "23             206            4944\n",
              "24             306            1156\n",
              "25             106            1936\n",
              "26             406            1671\n",
              "27             207           11203\n",
              "28             307            1845\n",
              "29             107            3605\n",
              "30             407            2136\n",
              "31             208            4412\n",
              "32             308            4416\n",
              "33             108            2397\n",
              "34             408            1152\n",
              "35             209            5426\n",
              "36             309            6191\n",
              "37             109            6322\n",
              "38             409            1759\n",
              "39             210            1760\n",
              "40             310            3068\n",
              "41             110            6448\n",
              "42             410             864\n",
              "43             211            5259\n",
              "44             311            3548\n",
              "45             111            3872\n",
              "46             411             429\n",
              "47             212            5566\n",
              "48             312            2496\n",
              "49             112           11692\n",
              "50             412            2694\n",
              "51             313            1395\n",
              "52             413            1008\n",
              "53             314            7536\n",
              "54             414            2036\n",
              "55             315            3170\n",
              "56             316            2035\n",
              "57             317            7737\n",
              "58             318            1927>"
            ]
          },
          "metadata": {
            "tags": []
          },
          "execution_count": 133
        }
      ]
    },
    {
      "cell_type": "code",
      "metadata": {
        "id": "Varf93JLkWg0",
        "colab_type": "code",
        "colab": {
          "base_uri": "https://localhost:8080/",
          "height": 1000
        },
        "outputId": "15bbc084-9c12-4e32-e8e3-b3d41ae7d8c0"
      },
      "source": [
        "cb_else_counts = df[(df.complaint_type != 'Noise - Residential') & (df.complaint_type != 'HEAT/HOT WATER')].groupby('community_board').size().reset_index(name='count_of_else')\n",
        "cb_else_counts['community_board'] = cb_else_counts.apply(recode_borocd_counts, axis=1)\n",
        "cb_else_counts=cb_else_counts.drop(cb_else_counts.index[0])\n",
        "cb_else_counts=cb_else_counts[cb_else_counts['count_of_else']>1200]\n",
        "cb_else_counts=cb_else_counts[cb_else_counts.community_board!= \"Invalid borocd\"]\n",
        "cb_else_counts.head"
      ],
      "execution_count": 136,
      "outputs": [
        {
          "output_type": "execute_result",
          "data": {
            "text/plain": [
              "<bound method NDFrame.head of    community_board  count_of_else\n",
              "1              201          20316\n",
              "2              301          59389\n",
              "3              101          20261\n",
              "4              401          53370\n",
              "5              501          58449\n",
              "6              202          15736\n",
              "7              302          39077\n",
              "8              102          33202\n",
              "9              402          30941\n",
              "10             502          38186\n",
              "11             203          21739\n",
              "12             303          53002\n",
              "13             103          41386\n",
              "14             403          33232\n",
              "15             503          47333\n",
              "16             204          42737\n",
              "17             304          40621\n",
              "18             104          34004\n",
              "19             404          25418\n",
              "20             205          35446\n",
              "21             305          52407\n",
              "22             105          36049\n",
              "23             405          64641\n",
              "24             206          23624\n",
              "25             306          39499\n",
              "26             106          25860\n",
              "27             406          22901\n",
              "28             207          35325\n",
              "29             307          32497\n",
              "30             107          38328\n",
              "31             407          58222\n",
              "32             208          23989\n",
              "33             308          35388\n",
              "34             108          33647\n",
              "35             408          43640\n",
              "36             209          35581\n",
              "37             309          32226\n",
              "38             109          28352\n",
              "39             409          47614\n",
              "40             210          28814\n",
              "41             310          39085\n",
              "42             110          35917\n",
              "43             410          42630\n",
              "44             211          27019\n",
              "45             311          47279\n",
              "46             111          23603\n",
              "47             411          31389\n",
              "48             212          42537\n",
              "49             312          42023\n",
              "50             112          57955\n",
              "51             412          61548\n",
              "52             313          18643\n",
              "53             413          50123\n",
              "54             314          44774\n",
              "55             414          25466\n",
              "56             315          43140\n",
              "57             316          23546\n",
              "58             317          46391\n",
              "59             318          49428>"
            ]
          },
          "metadata": {
            "tags": []
          },
          "execution_count": 136
        }
      ]
    },
    {
      "cell_type": "markdown",
      "metadata": {
        "id": "V9l_zGKBmzDn",
        "colab_type": "text"
      },
      "source": [
        "- **Step 2**. Create a stacked bar chart comprised of three stacked bars. The total height of each bar (the sum of the three stacked bars) should reflect the total count of 311 complaints per CD.\n",
        "  - number of `'Noise - Residential'` complaints per CD\n",
        "  - number of `'HEAT/HOT WATER'` complaints per CD\n",
        "  - number of other complaints per CD "
      ]
    },
    {
      "cell_type": "code",
      "metadata": {
        "id": "pycktntsnYTr",
        "colab_type": "code",
        "colab": {
          "base_uri": "https://localhost:8080/",
          "height": 413
        },
        "outputId": "a6126ff2-0a00-46e7-df9b-167a426389a6"
      },
      "source": [
        "# list of bar positions on x axis\n",
        "position_on_x = np.arange(len(cb_noise_counts))\n",
        "# original set of counts data\n",
        "# note: it's important to use np.array(series) to convert the pandas series into an array. \n",
        "# if you don't do this, the stacking won't work corectly\n",
        "else_counts = np.array(cb_else_counts.sort_values(by='count_of_else', ascending=False).count_of_else)\n",
        "noise_counts = np.array(cb_noise_counts.sort_values(by='count_of_noise', ascending=False).count_of_noise)\n",
        "water_counts = np.array(cb_water_counts.sort_values(by='count_of_water', ascending=False).count_of_water)\n",
        "\n",
        "plt.figure(figsize=(15,6))\n",
        "\n",
        "plot1=plt.bar(\n",
        "    position_on_x,\n",
        "    else_counts,\n",
        "    align='center',\n",
        "    color='red',\n",
        "    label='Other Count'\n",
        ")\n",
        "\n",
        "plot2=plt.bar(\n",
        "    position_on_x,\n",
        "    noise_counts,\n",
        "    bottom=else_counts,\n",
        "    align ='center',\n",
        "    color='blue',\n",
        "    label='Noise Count'\n",
        ")\n",
        "\n",
        "plot3=plt.bar(\n",
        "    position_on_x,\n",
        "    water_counts,\n",
        "    bottom= noise_counts + else_counts,\n",
        "    align ='center',\n",
        "    color='cyan',\n",
        "    label='Heat/Hot Water Count'\n",
        ")\n",
        "\n",
        "plt.xticks(position_on_x, cb_else_counts.sort_values(by='count_of_else', ascending=False).community_board, rotation=90)\n",
        "\n",
        "plt.title('Count of Noise, Heat/Hot Water, and Other 311 Requests per Community District')\n",
        "plt.xlabel('BoroCD')\n",
        "plt.ylabel('# of Requests')\n",
        "plt.legend() # defaults to putting legend in top right\n",
        "\n",
        "plt.show()"
      ],
      "execution_count": 158,
      "outputs": [
        {
          "output_type": "display_data",
          "data": {
            "image/png": "[encoded data removed]",
            "text/plain": [
              "<Figure size 1080x432 with 1 Axes>"
            ]
          },
          "metadata": {
            "tags": []
          }
        }
      ]
    },
    {
      "cell_type": "markdown",
      "metadata": {
        "id": "JrKpn1Jo3nsV",
        "colab_type": "text"
      },
      "source": [
        "- **Step 3**. Create a scatter plot of community district's 311 counts per category (y-axis) vs. CD population (x-axis). The scatter plot should show each of the three complaint categories in a different color."
      ]
    },
    {
      "cell_type": "code",
      "metadata": {
        "id": "DiT0YSZqhEGb",
        "colab_type": "code",
        "colab": {
          "base_uri": "https://localhost:8080/",
          "height": 204
        },
        "outputId": "18642f96-175f-45e1-9c89-768f2389d8a6"
      },
      "source": [
        "population = pd.read_csv('https://data.cityofnewyork.us/api/views/xi7c-iiu2/rows.csv?accessType=DOWNLOAD', header='infer')\n",
        "population.head()"
      ],
      "execution_count": 8,
      "outputs": [
        {
          "output_type": "execute_result",
          "data": {
            "text/html": [
              "<div>\n",
              "<style scoped>\n",
              "    .dataframe tbody tr th:only-of-type {\n",
              "        vertical-align: middle;\n",
              "    }\n",
              "\n",
              "    .dataframe tbody tr th {\n",
              "        vertical-align: top;\n",
              "    }\n",
              "\n",
              "    .dataframe thead th {\n",
              "        text-align: right;\n",
              "    }\n",
              "</style>\n",
              "<table border=\"1\" class=\"dataframe\">\n",
              "  <thead>\n",
              "    <tr style=\"text-align: right;\">\n",
              "      <th></th>\n",
              "      <th>Borough</th>\n",
              "      <th>CD Number</th>\n",
              "      <th>CD Name</th>\n",
              "      <th>1970 Population</th>\n",
              "      <th>1980 Population</th>\n",
              "      <th>1990 Population</th>\n",
              "      <th>2000 Population</th>\n",
              "      <th>2010 Population</th>\n",
              "    </tr>\n",
              "  </thead>\n",
              "  <tbody>\n",
              "    <tr>\n",
              "      <th>0</th>\n",
              "      <td>Bronx</td>\n",
              "      <td>1</td>\n",
              "      <td>Melrose, Mott Haven, Port Morris</td>\n",
              "      <td>138557</td>\n",
              "      <td>78441</td>\n",
              "      <td>77214</td>\n",
              "      <td>82159</td>\n",
              "      <td>91497</td>\n",
              "    </tr>\n",
              "    <tr>\n",
              "      <th>1</th>\n",
              "      <td>Bronx</td>\n",
              "      <td>2</td>\n",
              "      <td>Hunts Point, Longwood</td>\n",
              "      <td>99493</td>\n",
              "      <td>34399</td>\n",
              "      <td>39443</td>\n",
              "      <td>46824</td>\n",
              "      <td>52246</td>\n",
              "    </tr>\n",
              "    <tr>\n",
              "      <th>2</th>\n",
              "      <td>Bronx</td>\n",
              "      <td>3</td>\n",
              "      <td>Morrisania, Crotona Park East</td>\n",
              "      <td>150636</td>\n",
              "      <td>53635</td>\n",
              "      <td>57162</td>\n",
              "      <td>68574</td>\n",
              "      <td>79762</td>\n",
              "    </tr>\n",
              "    <tr>\n",
              "      <th>3</th>\n",
              "      <td>Bronx</td>\n",
              "      <td>4</td>\n",
              "      <td>Highbridge, Concourse Village</td>\n",
              "      <td>144207</td>\n",
              "      <td>114312</td>\n",
              "      <td>119962</td>\n",
              "      <td>139563</td>\n",
              "      <td>146441</td>\n",
              "    </tr>\n",
              "    <tr>\n",
              "      <th>4</th>\n",
              "      <td>Bronx</td>\n",
              "      <td>5</td>\n",
              "      <td>University Hts., Fordham, Mt. Hope</td>\n",
              "      <td>121807</td>\n",
              "      <td>107995</td>\n",
              "      <td>118435</td>\n",
              "      <td>128313</td>\n",
              "      <td>128200</td>\n",
              "    </tr>\n",
              "  </tbody>\n",
              "</table>\n",
              "</div>"
            ],
            "text/plain": [
              "  Borough  CD Number                             CD Name  1970 Population  \\\n",
              "0   Bronx          1    Melrose, Mott Haven, Port Morris           138557   \n",
              "1   Bronx          2               Hunts Point, Longwood            99493   \n",
              "2   Bronx          3       Morrisania, Crotona Park East           150636   \n",
              "3   Bronx          4       Highbridge, Concourse Village           144207   \n",
              "4   Bronx          5  University Hts., Fordham, Mt. Hope           121807   \n",
              "\n",
              "   1980 Population  1990 Population  2000 Population  2010 Population  \n",
              "0            78441            77214            82159            91497  \n",
              "1            34399            39443            46824            52246  \n",
              "2            53635            57162            68574            79762  \n",
              "3           114312           119962           139563           146441  \n",
              "4           107995           118435           128313           128200  "
            ]
          },
          "metadata": {
            "tags": []
          },
          "execution_count": 8
        }
      ]
    },
    {
      "cell_type": "code",
      "metadata": {
        "id": "Ae9WpZd1hHvw",
        "colab_type": "code",
        "colab": {}
      },
      "source": [
        "# Create a function recode_borocd_pop that combines and recodes the Borough and CD Number values to create a borocd unique ID\n",
        "\n",
        "def recode_borocd_pop(row):\n",
        "  if row.Borough == 'Manhattan':\n",
        "    return str(100 + row['CD Number'])\n",
        "  elif row.Borough == 'Bronx':\n",
        "    return str(200 + row['CD Number'])\n",
        "  elif row.Borough == 'Brooklyn':\n",
        "    return str(300 + row['CD Number'])\n",
        "  elif row.Borough == 'Queens':\n",
        "    return str(400 + row['CD Number'])\n",
        "  elif row.Borough == 'Staten Island':\n",
        "    return str(500 + row['CD Number'])\n",
        "  else:\n",
        "    return 'Invalid borocd'\n",
        "\n",
        "population['borocd'] = population.apply(recode_borocd_pop, axis=1)"
      ],
      "execution_count": 0,
      "outputs": []
    },
    {
      "cell_type": "code",
      "metadata": {
        "id": "YCyrzZidhMA-",
        "colab_type": "code",
        "colab": {}
      },
      "source": [
        "merge_counts_1 = pd.merge(left=cb_else_counts, right=cb_noise_counts, left_on ='community_board', right_on='community_board')\n",
        "merge_counts_2 = pd.merge(left=merge_counts_1, right=cb_water_counts, left_on ='community_board', right_on='community_board')\n",
        "merged_data = pd.merge(left=merge_counts_2, right=population, left_on='community_board', right_on='borocd')"
      ],
      "execution_count": 0,
      "outputs": []
    },
    {
      "cell_type": "code",
      "metadata": {
        "id": "GGI4vrMQhQu2",
        "colab_type": "code",
        "colab": {
          "base_uri": "https://localhost:8080/",
          "height": 204
        },
        "outputId": "720dc048-65a6-40b5-c2db-539811253b1f"
      },
      "source": [
        "cd_data = merged_data[['borocd', 'Borough', 'CD Name', '2010 Population', 'count_of_else', 'count_of_noise', 'count_of_water']]\n",
        "cd_data.head()"
      ],
      "execution_count": 152,
      "outputs": [
        {
          "output_type": "execute_result",
          "data": {
            "text/html": [
              "<div>\n",
              "<style scoped>\n",
              "    .dataframe tbody tr th:only-of-type {\n",
              "        vertical-align: middle;\n",
              "    }\n",
              "\n",
              "    .dataframe tbody tr th {\n",
              "        vertical-align: top;\n",
              "    }\n",
              "\n",
              "    .dataframe thead th {\n",
              "        text-align: right;\n",
              "    }\n",
              "</style>\n",
              "<table border=\"1\" class=\"dataframe\">\n",
              "  <thead>\n",
              "    <tr style=\"text-align: right;\">\n",
              "      <th></th>\n",
              "      <th>borocd</th>\n",
              "      <th>Borough</th>\n",
              "      <th>CD Name</th>\n",
              "      <th>2010 Population</th>\n",
              "      <th>count_of_else</th>\n",
              "      <th>count_of_noise</th>\n",
              "      <th>count_of_water</th>\n",
              "    </tr>\n",
              "  </thead>\n",
              "  <tbody>\n",
              "    <tr>\n",
              "      <th>0</th>\n",
              "      <td>201</td>\n",
              "      <td>Bronx</td>\n",
              "      <td>Melrose, Mott Haven, Port Morris</td>\n",
              "      <td>91497</td>\n",
              "      <td>20316</td>\n",
              "      <td>3691</td>\n",
              "      <td>3346</td>\n",
              "    </tr>\n",
              "    <tr>\n",
              "      <th>1</th>\n",
              "      <td>301</td>\n",
              "      <td>Brooklyn</td>\n",
              "      <td>Williamsburg, Greenpoint</td>\n",
              "      <td>173083</td>\n",
              "      <td>59389</td>\n",
              "      <td>5844</td>\n",
              "      <td>2868</td>\n",
              "    </tr>\n",
              "    <tr>\n",
              "      <th>2</th>\n",
              "      <td>101</td>\n",
              "      <td>Manhattan</td>\n",
              "      <td>Battery Park City, Tribeca</td>\n",
              "      <td>60978</td>\n",
              "      <td>20261</td>\n",
              "      <td>722</td>\n",
              "      <td>276</td>\n",
              "    </tr>\n",
              "    <tr>\n",
              "      <th>3</th>\n",
              "      <td>401</td>\n",
              "      <td>Queens</td>\n",
              "      <td>Astoria, Long Island City</td>\n",
              "      <td>191105</td>\n",
              "      <td>53370</td>\n",
              "      <td>4589</td>\n",
              "      <td>2466</td>\n",
              "    </tr>\n",
              "    <tr>\n",
              "      <th>4</th>\n",
              "      <td>501</td>\n",
              "      <td>Staten Island</td>\n",
              "      <td>Stapleton, Port Richmond</td>\n",
              "      <td>175756</td>\n",
              "      <td>58449</td>\n",
              "      <td>5052</td>\n",
              "      <td>1644</td>\n",
              "    </tr>\n",
              "  </tbody>\n",
              "</table>\n",
              "</div>"
            ],
            "text/plain": [
              "  borocd        Borough                           CD Name  2010 Population  \\\n",
              "0    201          Bronx  Melrose, Mott Haven, Port Morris            91497   \n",
              "1    301       Brooklyn          Williamsburg, Greenpoint           173083   \n",
              "2    101      Manhattan        Battery Park City, Tribeca            60978   \n",
              "3    401         Queens         Astoria, Long Island City           191105   \n",
              "4    501  Staten Island          Stapleton, Port Richmond           175756   \n",
              "\n",
              "   count_of_else  count_of_noise  count_of_water  \n",
              "0          20316            3691            3346  \n",
              "1          59389            5844            2868  \n",
              "2          20261             722             276  \n",
              "3          53370            4589            2466  \n",
              "4          58449            5052            1644  "
            ]
          },
          "metadata": {
            "tags": []
          },
          "execution_count": 152
        }
      ]
    },
    {
      "cell_type": "code",
      "metadata": {
        "id": "I3t1KRxQ6EO_",
        "colab_type": "code",
        "colab": {
          "base_uri": "https://localhost:8080/",
          "height": 404
        },
        "outputId": "a374759c-57ff-4073-9765-448256b0eea8"
      },
      "source": [
        "# define the color to be used for the markers for each data subset group\n",
        "colors = [\"red\", \"blue\", \"cyan\"]\n",
        "\n",
        "# define the labels to be used for the data subset group\n",
        "groups = [\"Other\", \"Noise\", \"Heat/Hot Water\"]\n",
        "\n",
        "plt.figure(figsize=(15,6))\n",
        "\n",
        "plt.scatter(\n",
        "  cd_data['2010 Population']/1000,\n",
        "  cd_data['count_of_else'],\n",
        "  alpha=0.8,\n",
        "  c=colors[0],\n",
        "  s=50,\n",
        "  label=groups[0]\n",
        ")\n",
        "# each new plot gets rendered on top of the previous one\n",
        "plt.scatter(\n",
        "  cd_data['2010 Population']/1000,\n",
        "  cd_data['count_of_noise'],\n",
        "  alpha=0.8,\n",
        "  c=colors[1],\n",
        "  s=50,\n",
        "  label=groups[1]\n",
        ")\n",
        "plt.scatter(\n",
        "  cd_data['2010 Population']/1000,\n",
        "  cd_data['count_of_water'],\n",
        "  alpha=0.8,\n",
        "  c=colors[2],\n",
        "  s=50,\n",
        "  label=groups[2]\n",
        ")\n",
        "\n",
        "plt.title('Noise, Heat/Hot Water, and Other 311 Requests vs. Community District Population')\n",
        "plt.xlabel('Population in Community District (Thousands)')\n",
        "plt.ylabel('# of 311 Requests in Community District')\n",
        "\n",
        "# add legend at specified location\n",
        "plt.legend(loc=2)\n",
        "\n",
        "plt.show()"
      ],
      "execution_count": 159,
      "outputs": [
        {
          "output_type": "display_data",
          "data": {
            "image/png": "[encoded data removed]",
            "text/plain": [
              "<Figure size 1080x432 with 1 Axes>"
            ]
          },
          "metadata": {
            "tags": []
          }
        }
      ]
    }
  ]
}
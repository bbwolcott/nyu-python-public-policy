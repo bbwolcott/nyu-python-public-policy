{
  "nbformat": 4,
  "nbformat_minor": 0,
  "metadata": {
    "colab": {
      "name": "Hw_7.ipynb",
      "provenance": [],
      "collapsed_sections": [],
      "include_colab_link": true
    },
    "kernelspec": {
      "name": "python3",
      "display_name": "Python 3"
    }
  },
  "cells": [
    {
      "cell_type": "markdown",
      "metadata": {
        "id": "view-in-github",
        "colab_type": "text"
      },
      "source": [
        "<a href=\"https://colab.research.google.com/github/bbwolcott/nyu-python-public-policy/blob/master/Hw_7.ipynb\" target=\"_parent\"><img src=\"https://colab.research.google.com/assets/colab-badge.svg\" alt=\"Open In Colab\"/></a>"
      ]
    },
    {
      "cell_type": "markdown",
      "metadata": {
        "id": "7fo4kU_UjgyY",
        "colab_type": "text"
      },
      "source": [
        "# **NYU Wagner - Python Coding for Public Policy**\n",
        "# Ben Wolcott HW 7: Final Assignment"
      ]
    },
    {
      "cell_type": "code",
      "metadata": {
        "id": "Ewtpf63kxbIm",
        "colab_type": "code",
        "colab": {}
      },
      "source": [
        "import pandas as pd\n",
        "from google.colab import drive\n",
        "import matplotlib.pyplot as plt \n",
        "import numpy as np\n",
        "import statsmodels.api as sm"
      ],
      "execution_count": 0,
      "outputs": []
    },
    {
      "cell_type": "code",
      "metadata": {
        "id": "z8rfu-j4xfXD",
        "colab_type": "code",
        "colab": {}
      },
      "source": [
        "# You can use pd.set_option() to make sure you see all the rows and columns in your dataframe\n",
        "pd.set_option('display.max_columns', None)\n",
        "pd.set_option('display.max_rows', None)"
      ],
      "execution_count": 0,
      "outputs": []
    },
    {
      "cell_type": "code",
      "metadata": {
        "id": "njPSvCtbxiSf",
        "colab_type": "code",
        "colab": {
          "base_uri": "https://localhost:8080/",
          "height": 122
        },
        "outputId": "48a625b9-6202-4176-8822-faccc3a23887"
      },
      "source": [
        "drive.mount('/content/drive')\n",
        "# follow the link it generates, choose your account, and then paste in the authorization code it provides"
      ],
      "execution_count": 4,
      "outputs": [
        {
          "output_type": "stream",
          "text": [
            "Go to this URL in a browser: https://accounts.google.com/o/oauth2/auth?client_id=947318989803-6bn6qk8qdgf4n4g3pfee6491hc0brc4i.apps.googleusercontent.com&redirect_uri=urn%3aietf%3awg%3aoauth%3a2.0%3aoob&response_type=code&scope=email%20https%3a%2f%2fwww.googleapis.com%2fauth%2fdocs.test%20https%3a%2f%2fwww.googleapis.com%2fauth%2fdrive%20https%3a%2f%2fwww.googleapis.com%2fauth%2fdrive.photos.readonly%20https%3a%2f%2fwww.googleapis.com%2fauth%2fpeopleapi.readonly\n",
            "\n",
            "Enter your authorization code:\n",
            "··········\n",
            "Mounted at /content/drive\n"
          ],
          "name": "stdout"
        }
      ]
    },
    {
      "cell_type": "code",
      "metadata": {
        "id": "VpOG0svUxtdT",
        "colab_type": "code",
        "colab": {
          "base_uri": "https://localhost:8080/",
          "height": 71
        },
        "outputId": "2681046d-2a06-4e01-f372-07044d77c0cd"
      },
      "source": [
        "df311 = pd.read_csv('/content/drive/My Drive/Data for Python/cleaned_311_data_revised.csv', header='infer')"
      ],
      "execution_count": 28,
      "outputs": [
        {
          "output_type": "stream",
          "text": [
            "/usr/local/lib/python3.6/dist-packages/IPython/core/interactiveshell.py:2718: DtypeWarning: Columns (10,19,20,22,33,36,37,38,39) have mixed types. Specify dtype option on import or set low_memory=False.\n",
            "  interactivity=interactivity, compiler=compiler, result=result)\n"
          ],
          "name": "stderr"
        }
      ]
    },
    {
      "cell_type": "code",
      "metadata": {
        "id": "_29PGi_wzMZ2",
        "colab_type": "code",
        "colab": {}
      },
      "source": [
        "indicators = pd.read_csv('https://planninglabs.carto.com/api/v2/sql?format=csv&q=SELECT%20cartodb_id,the_geom,the_geom_webmercator,acres,acs_tooltip,acs_tooltip_2,acs_tooltip_3,area_sqmi,borocd,cb_email,cb_website,cd_full_title,cd_short_title,cd_son_fy2018,cd_tot_bldgs,cd_tot_resunits,count_hosp_clinic,count_libraries,count_parks,count_public_schools,crime_count,crime_count_boro,crime_count_nyc,crime_per_1000,crime_per_1000_boro,crime_per_1000_nyc,female_10_14,female_15_19,female_20_24,female_25_29,female_30_34,female_35_39,female_40_44,female_45_49,female_5_9,female_50_54,female_55_59,female_60_64,female_65_69,female_70_74,female_75_79,female_80_84,female_85_over,female_under_5,fp_100_area,fp_100_bldg,fp_100_cost_burden,fp_100_cost_burden_value,fp_100_mhhi,fp_100_mortg_value,fp_100_openspace,fp_100_ownerocc,fp_100_ownerocc_value,fp_100_permortg,fp_100_pop,fp_100_rent_burden,fp_100_rent_burden_value,fp_100_resunits,fp_500_area,fp_500_bldg,fp_500_cost_burden,fp_500_cost_burden_value,fp_500_mhhi,fp_500_mortg_value,fp_500_openspace,fp_500_ownerocc,fp_500_ownerocc_value,fp_500_permortg,fp_500_pop,fp_500_rent_burden,fp_500_rent_burden_value,fp_500_resunits,lep_rate,lep_rate_boro,lep_rate_nyc,lot_area_commercial_office,lot_area_industrial_manufacturing,lot_area_mixed_use,lot_area_open_space,lot_area_other_no_data,lot_area_parking,lot_area_public_facility_institution,lot_area_res_1_2_family_bldg,lot_area_res_multifamily_elevator,lot_area_res_multifamily_walkup,lot_area_transportation_utility,lot_area_vacant,lots_commercial_office,lots_industrial_manufacturing,lots_mixed_use,lots_open_space,lots_other_no_data,lots_parking,lots_public_facility_institution,lots_res_1_2_family_bldg,lots_res_multifamily_elevator,lots_res_multifamily_walkup,lots_total,lots_transportation_utility,lots_vacant,male_10_14,male_15_19,male_20_24,male_25_29,male_30_34,male_35_39,male_40_44,male_45_49,male_5_9,male_50_54,male_55_59,male_60_64,male_65_69,male_70_74,male_75_79,male_80_84,male_85_over,male_under_5,mean_commute,mean_commute_boro,mean_commute_nyc,moe_bach_deg,moe_bach_deg_boro,moe_bach_deg_nyc,moe_foreign_born,moe_hh_rent_burd,moe_hh_rent_burd_boro,moe_hh_rent_burd_nyc,moe_lep_rate,moe_lep_rate_boro,moe_lep_rate_nyc,moe_mean_commute,moe_mean_commute_boro,moe_mean_commute_nyc,moe_over65_rate,moe_over65_rate_boro,moe_over65_rate_nyc,moe_poverty_rate,moe_under18_rate,moe_under18_rate_boro,moe_under18_rate_nyc,moe_unemnployment,moe_unemployment_boro,moe_unemployment_cd,neighborhoods,over65_rate,over65_rate_boro,over65_rate_nyc,pct_asian_nh,pct_bach_deg,pct_bach_deg_boro,pct_bach_deg_nyc,pct_black_nh,pct_clean_strts,pct_clean_strts_boro,pct_clean_strts_nyc,pct_foreign_born,pct_hh_rent_burd,pct_hh_rent_burd_boro,pct_hh_rent_burd_nyc,pct_hispanic,pct_other_nh,pct_served_parks,pct_white_nh,pop_2000,pop_2010,pop_acs,pop_change_00_10,poverty_rate,poverty_rate_boro,poverty_rate_nyc,puma,shared_puma,shared_puma_cd,son_issue_1,son_issue_2,son_issue_3,total_lot_area,under18_rate,under18_rate_boro,under18_rate_nyc,unemployment_boro,unemployment_cd,unemployment_nyc%20FROM%20community_district_profiles&filename=indicators.csv', header='infer' )"
      ],
      "execution_count": 0,
      "outputs": []
    },
    {
      "cell_type": "code",
      "metadata": {
        "id": "0n7S-JN1zshj",
        "colab_type": "code",
        "colab": {}
      },
      "source": [
        "indicators = indicators[['borocd', 'lep_rate']]"
      ],
      "execution_count": 0,
      "outputs": []
    },
    {
      "cell_type": "markdown",
      "metadata": {
        "id": "LvGH8N9CLcj4",
        "colab_type": "text"
      },
      "source": [
        "## **Problem Statement:** \n",
        "311 data is an incredible resource, but one major concern with 311 complaints is that there can be bias in the data. The fact that one community district has a higher number of 311 noise complaints, doesn't necessarily mean it is actually louder than another community district. It simply means more people submitted 311 complaints. Some neighborhoods may have residents that are more likely to submit complaints than others for various reasons (ex: different expectations, more awareness about 311, more free time, more sense of empowerment or hope that the complaint will be resolved, etc). This makes it difficult to get a clear picture of conditions across the city, and it can help to compare datasets against each other.\n",
        "\n",
        "[Community District Profiles](https://communityprofiles.planning.nyc.gov/) is an application that provides objective statistics about community districts. In this assignment, you will chose an indicator published on Community District Profiles and compare it against 311 complaint data. \n",
        "\n",
        "**Some ideas for inspiration:**\n",
        "- How does the number of buildings in the floodplain correlate with the number of 311 flooding complaints?\n",
        "- How does the street cleanliness score correlate with 311 complaints about garbage and cleanliness?\n",
        "- How does the percent of residents living in rent burden correlate with a number of 311 housing complaints (no heat/hot water or unsanitary conditions)?\n",
        "\n",
        "**Note:** This is a more open ended assignment where you can dig into policy concerns that are of greatest interest to you. If the results of your analysis are inconclusive, that is okay, as long as you are using proper python coding techniques. You will be graded on approach and methodology, rather than the outcome of the analysis."
      ]
    },
    {
      "cell_type": "markdown",
      "metadata": {
        "id": "xmKsEI-BkoXZ",
        "colab_type": "text"
      },
      "source": [
        "**Step 1**. Select an indicator from the Community District Profiles data that you want to analyze for this assignment. Create a dataframe that only captures the borocd and selected indicator column."
      ]
    },
    {
      "cell_type": "code",
      "metadata": {
        "id": "lU-PVC-_06_o",
        "colab_type": "code",
        "colab": {
          "base_uri": "https://localhost:8080/",
          "height": 204
        },
        "outputId": "4ba39721-8d17-40ea-b84d-a8024a131ed5"
      },
      "source": [
        "indicators = indicators[['borocd', 'lep_rate']]\n",
        "indicators.head()"
      ],
      "execution_count": 55,
      "outputs": [
        {
          "output_type": "execute_result",
          "data": {
            "text/html": [
              "<div>\n",
              "<style scoped>\n",
              "    .dataframe tbody tr th:only-of-type {\n",
              "        vertical-align: middle;\n",
              "    }\n",
              "\n",
              "    .dataframe tbody tr th {\n",
              "        vertical-align: top;\n",
              "    }\n",
              "\n",
              "    .dataframe thead th {\n",
              "        text-align: right;\n",
              "    }\n",
              "</style>\n",
              "<table border=\"1\" class=\"dataframe\">\n",
              "  <thead>\n",
              "    <tr style=\"text-align: right;\">\n",
              "      <th></th>\n",
              "      <th>borocd</th>\n",
              "      <th>lep_rate</th>\n",
              "    </tr>\n",
              "  </thead>\n",
              "  <tbody>\n",
              "    <tr>\n",
              "      <th>0</th>\n",
              "      <td>101</td>\n",
              "      <td>5.8</td>\n",
              "    </tr>\n",
              "    <tr>\n",
              "      <th>1</th>\n",
              "      <td>102</td>\n",
              "      <td>5.8</td>\n",
              "    </tr>\n",
              "    <tr>\n",
              "      <th>2</th>\n",
              "      <td>103</td>\n",
              "      <td>29.4</td>\n",
              "    </tr>\n",
              "    <tr>\n",
              "      <th>3</th>\n",
              "      <td>104</td>\n",
              "      <td>9.6</td>\n",
              "    </tr>\n",
              "    <tr>\n",
              "      <th>4</th>\n",
              "      <td>105</td>\n",
              "      <td>9.6</td>\n",
              "    </tr>\n",
              "  </tbody>\n",
              "</table>\n",
              "</div>"
            ],
            "text/plain": [
              "   borocd  lep_rate\n",
              "0     101       5.8\n",
              "1     102       5.8\n",
              "2     103      29.4\n",
              "3     104       9.6\n",
              "4     105       9.6"
            ]
          },
          "metadata": {
            "tags": []
          },
          "execution_count": 55
        }
      ]
    },
    {
      "cell_type": "markdown",
      "metadata": {
        "id": "Kc3DTsF7dWoq",
        "colab_type": "text"
      },
      "source": [
        "**Step 2**. Review the complaint types in the 311 complaint data. Choose the complaint type(s) you hypothesize should correlate with the indicator you chose in Step 2. Create a new dataframe that only captures the 311 complaints you want to analyze."
      ]
    },
    {
      "cell_type": "code",
      "metadata": {
        "id": "W-rgLJPQ1F1L",
        "colab_type": "code",
        "colab": {
          "base_uri": "https://localhost:8080/",
          "height": 411
        },
        "outputId": "ab40b56e-8897-4d67-833b-fc94139eb70f"
      },
      "source": [
        "Noise = df311[df311['complaint_type'] =='Noise - Residential']\n",
        "Noise.head()"
      ],
      "execution_count": 35,
      "outputs": [
        {
          "output_type": "execute_result",
          "data": {
            "text/html": [
              "<div>\n",
              "<style scoped>\n",
              "    .dataframe tbody tr th:only-of-type {\n",
              "        vertical-align: middle;\n",
              "    }\n",
              "\n",
              "    .dataframe tbody tr th {\n",
              "        vertical-align: top;\n",
              "    }\n",
              "\n",
              "    .dataframe thead th {\n",
              "        text-align: right;\n",
              "    }\n",
              "</style>\n",
              "<table border=\"1\" class=\"dataframe\">\n",
              "  <thead>\n",
              "    <tr style=\"text-align: right;\">\n",
              "      <th></th>\n",
              "      <th>Unnamed: 0</th>\n",
              "      <th>Unnamed: 0.1</th>\n",
              "      <th>unique_key</th>\n",
              "      <th>created_date</th>\n",
              "      <th>closed_date</th>\n",
              "      <th>agency</th>\n",
              "      <th>agency_name</th>\n",
              "      <th>complaint_type</th>\n",
              "      <th>descriptor</th>\n",
              "      <th>location_type</th>\n",
              "      <th>incident_zip</th>\n",
              "      <th>incident_address</th>\n",
              "      <th>street_name</th>\n",
              "      <th>cross_street_1</th>\n",
              "      <th>cross_street_2</th>\n",
              "      <th>intersection_street_1</th>\n",
              "      <th>intersection_street_2</th>\n",
              "      <th>address_type</th>\n",
              "      <th>city</th>\n",
              "      <th>landmark</th>\n",
              "      <th>facility_type</th>\n",
              "      <th>status</th>\n",
              "      <th>due_date</th>\n",
              "      <th>resolution_description</th>\n",
              "      <th>resolution_action_updated_date</th>\n",
              "      <th>community_board</th>\n",
              "      <th>bbl</th>\n",
              "      <th>borough</th>\n",
              "      <th>x_coordinate_(state_plane)</th>\n",
              "      <th>y_coordinate_(state_plane)</th>\n",
              "      <th>open_data_channel_type</th>\n",
              "      <th>park_facility_name</th>\n",
              "      <th>park_borough</th>\n",
              "      <th>vehicle_type</th>\n",
              "      <th>taxi_company_borough</th>\n",
              "      <th>taxi_pick_up_location</th>\n",
              "      <th>bridge_highway_name</th>\n",
              "      <th>bridge_highway_direction</th>\n",
              "      <th>road_ramp</th>\n",
              "      <th>bridge_highway_segment</th>\n",
              "      <th>latitude</th>\n",
              "      <th>longitude</th>\n",
              "      <th>location</th>\n",
              "      <th>borocd</th>\n",
              "    </tr>\n",
              "  </thead>\n",
              "  <tbody>\n",
              "    <tr>\n",
              "      <th>2</th>\n",
              "      <td>2</td>\n",
              "      <td>2</td>\n",
              "      <td>39882869</td>\n",
              "      <td>08/01/2018 12:00:54 AM</td>\n",
              "      <td>08/01/2018 12:49:55 AM</td>\n",
              "      <td>NYPD</td>\n",
              "      <td>New York City Police Department</td>\n",
              "      <td>Noise - Residential</td>\n",
              "      <td>Loud Music/Party</td>\n",
              "      <td>Residential Building/House</td>\n",
              "      <td>11216</td>\n",
              "      <td>761 LINCOLN PLACE</td>\n",
              "      <td>LINCOLN PLACE</td>\n",
              "      <td>ROGERS AVENUE</td>\n",
              "      <td>NOSTRAND AVENUE</td>\n",
              "      <td>NaN</td>\n",
              "      <td>NaN</td>\n",
              "      <td>ADDRESS</td>\n",
              "      <td>BROOKLYN</td>\n",
              "      <td>NaN</td>\n",
              "      <td>Precinct</td>\n",
              "      <td>Closed</td>\n",
              "      <td>08/01/2018 08:00:54 AM</td>\n",
              "      <td>The Police Department responded to the complai...</td>\n",
              "      <td>08/01/2018 12:49:55 AM</td>\n",
              "      <td>08 BROOKLYN</td>\n",
              "      <td>3.012540e+09</td>\n",
              "      <td>BROOKLYN</td>\n",
              "      <td>997732.0</td>\n",
              "      <td>183674.0</td>\n",
              "      <td>MOBILE</td>\n",
              "      <td>Unspecified</td>\n",
              "      <td>BROOKLYN</td>\n",
              "      <td>NaN</td>\n",
              "      <td>NaN</td>\n",
              "      <td>NaN</td>\n",
              "      <td>NaN</td>\n",
              "      <td>NaN</td>\n",
              "      <td>NaN</td>\n",
              "      <td>NaN</td>\n",
              "      <td>40.670809</td>\n",
              "      <td>-73.951399</td>\n",
              "      <td>(40.67080917938279, -73.9513990916184)</td>\n",
              "      <td>308.0</td>\n",
              "    </tr>\n",
              "    <tr>\n",
              "      <th>11</th>\n",
              "      <td>11</td>\n",
              "      <td>11</td>\n",
              "      <td>39883376</td>\n",
              "      <td>08/01/2018 12:04:41 AM</td>\n",
              "      <td>08/01/2018 03:38:54 AM</td>\n",
              "      <td>NYPD</td>\n",
              "      <td>New York City Police Department</td>\n",
              "      <td>Noise - Residential</td>\n",
              "      <td>Loud Music/Party</td>\n",
              "      <td>Residential Building/House</td>\n",
              "      <td>10456</td>\n",
              "      <td>1041 FINDLAY AVENUE</td>\n",
              "      <td>FINDLAY AVENUE</td>\n",
              "      <td>EAST 165 STREET</td>\n",
              "      <td>EAST 166 STREET</td>\n",
              "      <td>NaN</td>\n",
              "      <td>NaN</td>\n",
              "      <td>ADDRESS</td>\n",
              "      <td>BRONX</td>\n",
              "      <td>NaN</td>\n",
              "      <td>Precinct</td>\n",
              "      <td>Closed</td>\n",
              "      <td>08/01/2018 08:04:41 AM</td>\n",
              "      <td>The Police Department responded to the complai...</td>\n",
              "      <td>08/01/2018 03:38:54 AM</td>\n",
              "      <td>04 BRONX</td>\n",
              "      <td>2.024330e+09</td>\n",
              "      <td>BRONX</td>\n",
              "      <td>1007930.0</td>\n",
              "      <td>241405.0</td>\n",
              "      <td>PHONE</td>\n",
              "      <td>Unspecified</td>\n",
              "      <td>BRONX</td>\n",
              "      <td>NaN</td>\n",
              "      <td>NaN</td>\n",
              "      <td>NaN</td>\n",
              "      <td>NaN</td>\n",
              "      <td>NaN</td>\n",
              "      <td>NaN</td>\n",
              "      <td>NaN</td>\n",
              "      <td>40.829245</td>\n",
              "      <td>-73.914433</td>\n",
              "      <td>(40.829244677725754, -73.91443331831667)</td>\n",
              "      <td>204.0</td>\n",
              "    </tr>\n",
              "    <tr>\n",
              "      <th>16</th>\n",
              "      <td>16</td>\n",
              "      <td>16</td>\n",
              "      <td>39886233</td>\n",
              "      <td>08/01/2018 12:06:29 AM</td>\n",
              "      <td>08/01/2018 02:54:24 AM</td>\n",
              "      <td>NYPD</td>\n",
              "      <td>New York City Police Department</td>\n",
              "      <td>Noise - Residential</td>\n",
              "      <td>Banging/Pounding</td>\n",
              "      <td>Residential Building/House</td>\n",
              "      <td>11693</td>\n",
              "      <td>82-01 BEACH CHANNEL DRIVE</td>\n",
              "      <td>BEACH CHANNEL DRIVE</td>\n",
              "      <td>BEACH 81 STREET</td>\n",
              "      <td>BEACH 83 STREET</td>\n",
              "      <td>NaN</td>\n",
              "      <td>NaN</td>\n",
              "      <td>ADDRESS</td>\n",
              "      <td>FAR ROCKAWAY</td>\n",
              "      <td>NaN</td>\n",
              "      <td>Precinct</td>\n",
              "      <td>Closed</td>\n",
              "      <td>08/01/2018 08:06:29 AM</td>\n",
              "      <td>The Police Department responded to the complai...</td>\n",
              "      <td>08/01/2018 02:54:24 AM</td>\n",
              "      <td>14 QUEENS</td>\n",
              "      <td>4.161140e+09</td>\n",
              "      <td>QUEENS</td>\n",
              "      <td>1037327.0</td>\n",
              "      <td>154262.0</td>\n",
              "      <td>PHONE</td>\n",
              "      <td>Unspecified</td>\n",
              "      <td>QUEENS</td>\n",
              "      <td>NaN</td>\n",
              "      <td>NaN</td>\n",
              "      <td>NaN</td>\n",
              "      <td>NaN</td>\n",
              "      <td>NaN</td>\n",
              "      <td>NaN</td>\n",
              "      <td>NaN</td>\n",
              "      <td>40.589931</td>\n",
              "      <td>-73.808896</td>\n",
              "      <td>(40.58993080750793, -73.80889570815852)</td>\n",
              "      <td>414.0</td>\n",
              "    </tr>\n",
              "    <tr>\n",
              "      <th>17</th>\n",
              "      <td>17</td>\n",
              "      <td>17</td>\n",
              "      <td>39881426</td>\n",
              "      <td>08/01/2018 12:06:42 AM</td>\n",
              "      <td>08/01/2018 04:00:03 AM</td>\n",
              "      <td>NYPD</td>\n",
              "      <td>New York City Police Department</td>\n",
              "      <td>Noise - Residential</td>\n",
              "      <td>Banging/Pounding</td>\n",
              "      <td>Residential Building/House</td>\n",
              "      <td>10457</td>\n",
              "      <td>1654 MONROE AVENUE</td>\n",
              "      <td>MONROE AVENUE</td>\n",
              "      <td>EAST MT EDEN AVENUE</td>\n",
              "      <td>EAST 173 STREET</td>\n",
              "      <td>NaN</td>\n",
              "      <td>NaN</td>\n",
              "      <td>ADDRESS</td>\n",
              "      <td>BRONX</td>\n",
              "      <td>NaN</td>\n",
              "      <td>Precinct</td>\n",
              "      <td>Closed</td>\n",
              "      <td>08/01/2018 08:06:42 AM</td>\n",
              "      <td>The Police Department responded to the complai...</td>\n",
              "      <td>08/01/2018 04:00:03 AM</td>\n",
              "      <td>04 BRONX</td>\n",
              "      <td>2.027910e+09</td>\n",
              "      <td>BRONX</td>\n",
              "      <td>1010037.0</td>\n",
              "      <td>246441.0</td>\n",
              "      <td>PHONE</td>\n",
              "      <td>Unspecified</td>\n",
              "      <td>BRONX</td>\n",
              "      <td>NaN</td>\n",
              "      <td>NaN</td>\n",
              "      <td>NaN</td>\n",
              "      <td>NaN</td>\n",
              "      <td>NaN</td>\n",
              "      <td>NaN</td>\n",
              "      <td>NaN</td>\n",
              "      <td>40.843061</td>\n",
              "      <td>-73.906800</td>\n",
              "      <td>(40.84306113235555, -73.90680040695833)</td>\n",
              "      <td>204.0</td>\n",
              "    </tr>\n",
              "    <tr>\n",
              "      <th>18</th>\n",
              "      <td>18</td>\n",
              "      <td>18</td>\n",
              "      <td>39880309</td>\n",
              "      <td>08/01/2018 12:06:51 AM</td>\n",
              "      <td>08/01/2018 04:54:26 AM</td>\n",
              "      <td>NYPD</td>\n",
              "      <td>New York City Police Department</td>\n",
              "      <td>Noise - Residential</td>\n",
              "      <td>Loud Music/Party</td>\n",
              "      <td>Residential Building/House</td>\n",
              "      <td>11216</td>\n",
              "      <td>64 HERKIMER STREET</td>\n",
              "      <td>HERKIMER STREET</td>\n",
              "      <td>BEDFORD AVENUE</td>\n",
              "      <td>NOSTRAND AVENUE</td>\n",
              "      <td>NaN</td>\n",
              "      <td>NaN</td>\n",
              "      <td>ADDRESS</td>\n",
              "      <td>BROOKLYN</td>\n",
              "      <td>NaN</td>\n",
              "      <td>Precinct</td>\n",
              "      <td>Closed</td>\n",
              "      <td>08/01/2018 08:06:51 AM</td>\n",
              "      <td>The Police Department responded to the complai...</td>\n",
              "      <td>08/01/2018 04:54:26 AM</td>\n",
              "      <td>03 BROOKLYN</td>\n",
              "      <td>3.018650e+09</td>\n",
              "      <td>BROOKLYN</td>\n",
              "      <td>997776.0</td>\n",
              "      <td>186919.0</td>\n",
              "      <td>PHONE</td>\n",
              "      <td>Unspecified</td>\n",
              "      <td>BROOKLYN</td>\n",
              "      <td>NaN</td>\n",
              "      <td>NaN</td>\n",
              "      <td>NaN</td>\n",
              "      <td>NaN</td>\n",
              "      <td>NaN</td>\n",
              "      <td>NaN</td>\n",
              "      <td>NaN</td>\n",
              "      <td>40.679716</td>\n",
              "      <td>-73.951234</td>\n",
              "      <td>(40.67971590505359, -73.95123396494363)</td>\n",
              "      <td>303.0</td>\n",
              "    </tr>\n",
              "  </tbody>\n",
              "</table>\n",
              "</div>"
            ],
            "text/plain": [
              "    Unnamed: 0  Unnamed: 0.1  unique_key            created_date  \\\n",
              "2            2             2    39882869  08/01/2018 12:00:54 AM   \n",
              "11          11            11    39883376  08/01/2018 12:04:41 AM   \n",
              "16          16            16    39886233  08/01/2018 12:06:29 AM   \n",
              "17          17            17    39881426  08/01/2018 12:06:42 AM   \n",
              "18          18            18    39880309  08/01/2018 12:06:51 AM   \n",
              "\n",
              "               closed_date agency                      agency_name  \\\n",
              "2   08/01/2018 12:49:55 AM   NYPD  New York City Police Department   \n",
              "11  08/01/2018 03:38:54 AM   NYPD  New York City Police Department   \n",
              "16  08/01/2018 02:54:24 AM   NYPD  New York City Police Department   \n",
              "17  08/01/2018 04:00:03 AM   NYPD  New York City Police Department   \n",
              "18  08/01/2018 04:54:26 AM   NYPD  New York City Police Department   \n",
              "\n",
              "         complaint_type        descriptor               location_type  \\\n",
              "2   Noise - Residential  Loud Music/Party  Residential Building/House   \n",
              "11  Noise - Residential  Loud Music/Party  Residential Building/House   \n",
              "16  Noise - Residential  Banging/Pounding  Residential Building/House   \n",
              "17  Noise - Residential  Banging/Pounding  Residential Building/House   \n",
              "18  Noise - Residential  Loud Music/Party  Residential Building/House   \n",
              "\n",
              "   incident_zip           incident_address          street_name  \\\n",
              "2         11216          761 LINCOLN PLACE        LINCOLN PLACE   \n",
              "11        10456        1041 FINDLAY AVENUE       FINDLAY AVENUE   \n",
              "16        11693  82-01 BEACH CHANNEL DRIVE  BEACH CHANNEL DRIVE   \n",
              "17        10457         1654 MONROE AVENUE        MONROE AVENUE   \n",
              "18        11216         64 HERKIMER STREET      HERKIMER STREET   \n",
              "\n",
              "         cross_street_1   cross_street_2 intersection_street_1  \\\n",
              "2         ROGERS AVENUE  NOSTRAND AVENUE                   NaN   \n",
              "11      EAST 165 STREET  EAST 166 STREET                   NaN   \n",
              "16      BEACH 81 STREET  BEACH 83 STREET                   NaN   \n",
              "17  EAST MT EDEN AVENUE  EAST 173 STREET                   NaN   \n",
              "18       BEDFORD AVENUE  NOSTRAND AVENUE                   NaN   \n",
              "\n",
              "   intersection_street_2 address_type          city landmark facility_type  \\\n",
              "2                    NaN      ADDRESS      BROOKLYN      NaN      Precinct   \n",
              "11                   NaN      ADDRESS         BRONX      NaN      Precinct   \n",
              "16                   NaN      ADDRESS  FAR ROCKAWAY      NaN      Precinct   \n",
              "17                   NaN      ADDRESS         BRONX      NaN      Precinct   \n",
              "18                   NaN      ADDRESS      BROOKLYN      NaN      Precinct   \n",
              "\n",
              "    status                due_date  \\\n",
              "2   Closed  08/01/2018 08:00:54 AM   \n",
              "11  Closed  08/01/2018 08:04:41 AM   \n",
              "16  Closed  08/01/2018 08:06:29 AM   \n",
              "17  Closed  08/01/2018 08:06:42 AM   \n",
              "18  Closed  08/01/2018 08:06:51 AM   \n",
              "\n",
              "                               resolution_description  \\\n",
              "2   The Police Department responded to the complai...   \n",
              "11  The Police Department responded to the complai...   \n",
              "16  The Police Department responded to the complai...   \n",
              "17  The Police Department responded to the complai...   \n",
              "18  The Police Department responded to the complai...   \n",
              "\n",
              "   resolution_action_updated_date community_board           bbl   borough  \\\n",
              "2          08/01/2018 12:49:55 AM     08 BROOKLYN  3.012540e+09  BROOKLYN   \n",
              "11         08/01/2018 03:38:54 AM        04 BRONX  2.024330e+09     BRONX   \n",
              "16         08/01/2018 02:54:24 AM       14 QUEENS  4.161140e+09    QUEENS   \n",
              "17         08/01/2018 04:00:03 AM        04 BRONX  2.027910e+09     BRONX   \n",
              "18         08/01/2018 04:54:26 AM     03 BROOKLYN  3.018650e+09  BROOKLYN   \n",
              "\n",
              "    x_coordinate_(state_plane)  y_coordinate_(state_plane)  \\\n",
              "2                     997732.0                    183674.0   \n",
              "11                   1007930.0                    241405.0   \n",
              "16                   1037327.0                    154262.0   \n",
              "17                   1010037.0                    246441.0   \n",
              "18                    997776.0                    186919.0   \n",
              "\n",
              "   open_data_channel_type park_facility_name park_borough vehicle_type  \\\n",
              "2                  MOBILE        Unspecified     BROOKLYN          NaN   \n",
              "11                  PHONE        Unspecified        BRONX          NaN   \n",
              "16                  PHONE        Unspecified       QUEENS          NaN   \n",
              "17                  PHONE        Unspecified        BRONX          NaN   \n",
              "18                  PHONE        Unspecified     BROOKLYN          NaN   \n",
              "\n",
              "   taxi_company_borough taxi_pick_up_location bridge_highway_name  \\\n",
              "2                   NaN                   NaN                 NaN   \n",
              "11                  NaN                   NaN                 NaN   \n",
              "16                  NaN                   NaN                 NaN   \n",
              "17                  NaN                   NaN                 NaN   \n",
              "18                  NaN                   NaN                 NaN   \n",
              "\n",
              "   bridge_highway_direction road_ramp bridge_highway_segment   latitude  \\\n",
              "2                       NaN       NaN                    NaN  40.670809   \n",
              "11                      NaN       NaN                    NaN  40.829245   \n",
              "16                      NaN       NaN                    NaN  40.589931   \n",
              "17                      NaN       NaN                    NaN  40.843061   \n",
              "18                      NaN       NaN                    NaN  40.679716   \n",
              "\n",
              "    longitude                                  location  borocd  \n",
              "2  -73.951399    (40.67080917938279, -73.9513990916184)   308.0  \n",
              "11 -73.914433  (40.829244677725754, -73.91443331831667)   204.0  \n",
              "16 -73.808896   (40.58993080750793, -73.80889570815852)   414.0  \n",
              "17 -73.906800   (40.84306113235555, -73.90680040695833)   204.0  \n",
              "18 -73.951234   (40.67971590505359, -73.95123396494363)   303.0  "
            ]
          },
          "metadata": {
            "tags": []
          },
          "execution_count": 35
        }
      ]
    },
    {
      "cell_type": "markdown",
      "metadata": {
        "id": "9CzRENAYg0bD",
        "colab_type": "text"
      },
      "source": [
        "**Step 3**. Write out the hypothesis for your analysis. What relationship are you expecting to find between the variables and why?"
      ]
    },
    {
      "cell_type": "markdown",
      "metadata": {
        "id": "1xnSwYEu3NvZ",
        "colab_type": "text"
      },
      "source": [
        "If a community district has a higher percentage of \"residents that self-identify as having limited English proficiency\", I hypothesize that there will be fewer residential noise complaints. I hypothesize people are less likely to call 311 if they don't speak English fluently."
      ]
    },
    {
      "cell_type": "markdown",
      "metadata": {
        "id": "v_seR13meplF",
        "colab_type": "text"
      },
      "source": [
        "**Step 4**. Get the count of 311 complaints per community district (borocd) using the filtered dataframe you created in Step 2."
      ]
    },
    {
      "cell_type": "code",
      "metadata": {
        "id": "ZLUb7F-V3nyW",
        "colab_type": "code",
        "colab": {
          "base_uri": "https://localhost:8080/",
          "height": 204
        },
        "outputId": "120c129d-6ac8-445d-c780-708e26f16058"
      },
      "source": [
        "Noise_cd = Noise.groupby(['borocd','complaint_type']).size().reset_index(name='count')\n",
        "Noise_cd.head()"
      ],
      "execution_count": 36,
      "outputs": [
        {
          "output_type": "execute_result",
          "data": {
            "text/html": [
              "<div>\n",
              "<style scoped>\n",
              "    .dataframe tbody tr th:only-of-type {\n",
              "        vertical-align: middle;\n",
              "    }\n",
              "\n",
              "    .dataframe tbody tr th {\n",
              "        vertical-align: top;\n",
              "    }\n",
              "\n",
              "    .dataframe thead th {\n",
              "        text-align: right;\n",
              "    }\n",
              "</style>\n",
              "<table border=\"1\" class=\"dataframe\">\n",
              "  <thead>\n",
              "    <tr style=\"text-align: right;\">\n",
              "      <th></th>\n",
              "      <th>borocd</th>\n",
              "      <th>complaint_type</th>\n",
              "      <th>count</th>\n",
              "    </tr>\n",
              "  </thead>\n",
              "  <tbody>\n",
              "    <tr>\n",
              "      <th>0</th>\n",
              "      <td>101.0</td>\n",
              "      <td>Noise - Residential</td>\n",
              "      <td>722</td>\n",
              "    </tr>\n",
              "    <tr>\n",
              "      <th>1</th>\n",
              "      <td>102.0</td>\n",
              "      <td>Noise - Residential</td>\n",
              "      <td>1837</td>\n",
              "    </tr>\n",
              "    <tr>\n",
              "      <th>2</th>\n",
              "      <td>103.0</td>\n",
              "      <td>Noise - Residential</td>\n",
              "      <td>6272</td>\n",
              "    </tr>\n",
              "    <tr>\n",
              "      <th>3</th>\n",
              "      <td>104.0</td>\n",
              "      <td>Noise - Residential</td>\n",
              "      <td>2702</td>\n",
              "    </tr>\n",
              "    <tr>\n",
              "      <th>4</th>\n",
              "      <td>105.0</td>\n",
              "      <td>Noise - Residential</td>\n",
              "      <td>741</td>\n",
              "    </tr>\n",
              "  </tbody>\n",
              "</table>\n",
              "</div>"
            ],
            "text/plain": [
              "   borocd       complaint_type  count\n",
              "0   101.0  Noise - Residential    722\n",
              "1   102.0  Noise - Residential   1837\n",
              "2   103.0  Noise - Residential   6272\n",
              "3   104.0  Noise - Residential   2702\n",
              "4   105.0  Noise - Residential    741"
            ]
          },
          "metadata": {
            "tags": []
          },
          "execution_count": 36
        }
      ]
    },
    {
      "cell_type": "markdown",
      "metadata": {
        "id": "FT7E3RjqfP3M",
        "colab_type": "text"
      },
      "source": [
        "**Step 5**. Join the indicator dataframe (from Step 1) with 311 counts dataframe (from Step 4) using the borocd value."
      ]
    },
    {
      "cell_type": "code",
      "metadata": {
        "id": "dym79A5h4N21",
        "colab_type": "code",
        "colab": {}
      },
      "source": [
        "merged = pd.merge(left=Noise_cd, right=indicators, left_on='borocd', right_on='borocd', how='left')"
      ],
      "execution_count": 0,
      "outputs": []
    },
    {
      "cell_type": "code",
      "metadata": {
        "id": "nEZBAfpM4esG",
        "colab_type": "code",
        "colab": {
          "base_uri": "https://localhost:8080/",
          "height": 204
        },
        "outputId": "7618d725-0397-45e6-b0e1-b056015181d3"
      },
      "source": [
        "merged.head()"
      ],
      "execution_count": 54,
      "outputs": [
        {
          "output_type": "execute_result",
          "data": {
            "text/html": [
              "<div>\n",
              "<style scoped>\n",
              "    .dataframe tbody tr th:only-of-type {\n",
              "        vertical-align: middle;\n",
              "    }\n",
              "\n",
              "    .dataframe tbody tr th {\n",
              "        vertical-align: top;\n",
              "    }\n",
              "\n",
              "    .dataframe thead th {\n",
              "        text-align: right;\n",
              "    }\n",
              "</style>\n",
              "<table border=\"1\" class=\"dataframe\">\n",
              "  <thead>\n",
              "    <tr style=\"text-align: right;\">\n",
              "      <th></th>\n",
              "      <th>borocd</th>\n",
              "      <th>complaint_type</th>\n",
              "      <th>count</th>\n",
              "      <th>lep_rate</th>\n",
              "    </tr>\n",
              "  </thead>\n",
              "  <tbody>\n",
              "    <tr>\n",
              "      <th>0</th>\n",
              "      <td>101.0</td>\n",
              "      <td>Noise - Residential</td>\n",
              "      <td>722</td>\n",
              "      <td>5.8</td>\n",
              "    </tr>\n",
              "    <tr>\n",
              "      <th>1</th>\n",
              "      <td>102.0</td>\n",
              "      <td>Noise - Residential</td>\n",
              "      <td>1837</td>\n",
              "      <td>5.8</td>\n",
              "    </tr>\n",
              "    <tr>\n",
              "      <th>2</th>\n",
              "      <td>103.0</td>\n",
              "      <td>Noise - Residential</td>\n",
              "      <td>6272</td>\n",
              "      <td>29.4</td>\n",
              "    </tr>\n",
              "    <tr>\n",
              "      <th>3</th>\n",
              "      <td>104.0</td>\n",
              "      <td>Noise - Residential</td>\n",
              "      <td>2702</td>\n",
              "      <td>9.6</td>\n",
              "    </tr>\n",
              "    <tr>\n",
              "      <th>4</th>\n",
              "      <td>105.0</td>\n",
              "      <td>Noise - Residential</td>\n",
              "      <td>741</td>\n",
              "      <td>9.6</td>\n",
              "    </tr>\n",
              "  </tbody>\n",
              "</table>\n",
              "</div>"
            ],
            "text/plain": [
              "   borocd       complaint_type  count  lep_rate\n",
              "0   101.0  Noise - Residential    722       5.8\n",
              "1   102.0  Noise - Residential   1837       5.8\n",
              "2   103.0  Noise - Residential   6272      29.4\n",
              "3   104.0  Noise - Residential   2702       9.6\n",
              "4   105.0  Noise - Residential    741       9.6"
            ]
          },
          "metadata": {
            "tags": []
          },
          "execution_count": 54
        }
      ]
    },
    {
      "cell_type": "markdown",
      "metadata": {
        "id": "rupwOfaZfn0M",
        "colab_type": "text"
      },
      "source": [
        "**Step 6**. Produce a scatter plot of the indicator values vs. 311 complaint counts. The should be one point per community district."
      ]
    },
    {
      "cell_type": "code",
      "metadata": {
        "id": "X8IGmI3J4sds",
        "colab_type": "code",
        "colab": {
          "base_uri": "https://localhost:8080/",
          "height": 404
        },
        "outputId": "6ce4590e-d301-4268-acac-f3be8f7f2ba7"
      },
      "source": [
        "plt.figure(figsize=(15, 6))\n",
        "\n",
        "plt.scatter(\n",
        "    np.array(merged['lep_rate']), \n",
        "    np.array(merged['count']),\n",
        "    s=50,\n",
        "    c='#3d03fc',\n",
        "    edgecolors='black',\n",
        "    alpha=0.5)\n",
        "\n",
        "plt.title('% of Residents with Limited English Proficiency vs. Residential Noise Complaints')\n",
        "plt.xlabel('% of Residents with Limited English Proficiency in each Community District')\n",
        "plt.ylabel('Residential Noise Complaints')\n",
        "\n",
        "plt.show()"
      ],
      "execution_count": 44,
      "outputs": [
        {
          "output_type": "display_data",
          "data": {
            "image/png": "[encoded data removed]",
            "text/plain": [
              "<Figure size 1080x432 with 1 Axes>"
            ]
          },
          "metadata": {
            "tags": []
          }
        }
      ]
    },
    {
      "cell_type": "markdown",
      "metadata": {
        "id": "S5NQyNsUf07W",
        "colab_type": "text"
      },
      "source": [
        "**Step 7**. Conduct an OLS linear regression using the indicator values vs. 311 complaint counts and interpret the results."
      ]
    },
    {
      "cell_type": "code",
      "metadata": {
        "id": "WvO8yOB7568s",
        "colab_type": "code",
        "colab": {}
      },
      "source": [
        "x = np.array(merged['lep_rate'])\n",
        "y = np.array(merged['count'])\n",
        "# x = Add a constant \n",
        "x = sm.add_constant(x)\n",
        "\n",
        "model = sm.OLS(y, x).fit()"
      ],
      "execution_count": 0,
      "outputs": []
    },
    {
      "cell_type": "code",
      "metadata": {
        "id": "MZYv9VH-6Q0x",
        "colab_type": "code",
        "colab": {
          "base_uri": "https://localhost:8080/",
          "height": 442
        },
        "outputId": "1cbfac0c-60e0-4274-8a1d-78f93dc5b442"
      },
      "source": [
        "# Print out the statistics\n",
        "print(model.summary())"
      ],
      "execution_count": 46,
      "outputs": [
        {
          "output_type": "stream",
          "text": [
            "                            OLS Regression Results                            \n",
            "==============================================================================\n",
            "Dep. Variable:                      y   R-squared:                       0.010\n",
            "Model:                            OLS   Adj. R-squared:                 -0.008\n",
            "Method:                 Least Squares   F-statistic:                    0.5634\n",
            "Date:                Fri, 13 Dec 2019   Prob (F-statistic):              0.456\n",
            "Time:                        01:39:26   Log-Likelihood:                -536.50\n",
            "No. Observations:                  59   AIC:                             1077.\n",
            "Df Residuals:                      57   BIC:                             1081.\n",
            "Df Model:                           1                                         \n",
            "Covariance Type:            nonrobust                                         \n",
            "==============================================================================\n",
            "                 coef    std err          t      P>|t|      [0.025      0.975]\n",
            "------------------------------------------------------------------------------\n",
            "const       3628.6111    566.552      6.405      0.000    2494.111    4763.111\n",
            "x1            16.3929     21.839      0.751      0.456     -27.339      60.125\n",
            "==============================================================================\n",
            "Omnibus:                       10.999   Durbin-Watson:                   1.625\n",
            "Prob(Omnibus):                  0.004   Jarque-Bera (JB):               11.075\n",
            "Skew:                           0.902   Prob(JB):                      0.00394\n",
            "Kurtosis:                       4.120   Cond. No.                         51.6\n",
            "==============================================================================\n",
            "\n",
            "Warnings:\n",
            "[1] Standard Errors assume that the covariance matrix of the errors is correctly specified.\n"
          ],
          "name": "stdout"
        }
      ]
    },
    {
      "cell_type": "markdown",
      "metadata": {
        "id": "Y7sPO6qagdZ1",
        "colab_type": "text"
      },
      "source": [
        "**Step 8**. Use the linear regression results to add a line of best fit to your scatterplot"
      ]
    },
    {
      "cell_type": "code",
      "metadata": {
        "id": "-ulRHscv6bdQ",
        "colab_type": "code",
        "colab": {
          "base_uri": "https://localhost:8080/",
          "height": 68
        },
        "outputId": "26959354-2234-4050-e3fe-c0b5ac26917a"
      },
      "source": [
        "p = model.params # intercept and coefficient\n",
        "print('parameters:', p)\n",
        "\n",
        "r2 = model.rsquared\n",
        "print('R2:', r2)\n",
        "\n",
        "# let's make labels for the lines of the best fit to use on a scatter plot\n",
        "\n",
        "label = 'y = ' + str(round(p[1],2)) + 'x + ' + str(round(p[0],2)) + '; R2 = ' + str(round(r2,3))\n",
        "print(label)\n",
        "\n",
        "x_dummy = np.array(merged['lep_rate'])"
      ],
      "execution_count": 50,
      "outputs": [
        {
          "output_type": "stream",
          "text": [
            "parameters: [3628.61108807   16.39294307]\n",
            "R2: 0.009788100573475456\n",
            "y = 16.39x + 3628.61; R2 = 0.01\n"
          ],
          "name": "stdout"
        }
      ]
    },
    {
      "cell_type": "code",
      "metadata": {
        "id": "SvwgrX8o6lLl",
        "colab_type": "code",
        "colab": {
          "base_uri": "https://localhost:8080/",
          "height": 404
        },
        "outputId": "71f6418f-4d89-4ecc-d121-75d68e17fe34"
      },
      "source": [
        "plt.figure(figsize=(15, 6))\n",
        "\n",
        "plt.scatter(\n",
        "    np.array(merged['lep_rate']), \n",
        "    np.array(merged['count']),\n",
        "    s=50,\n",
        "    c='#3d03fc',\n",
        "    edgecolors='black',\n",
        "    alpha=0.5)\n",
        "\n",
        "# line of best fit, with y intercept\n",
        "plt.plot(\n",
        "    x_dummy, \n",
        "    p[0] + p[1] * x_dummy,\n",
        "    c='#00d138',\n",
        "    label=label)\n",
        "\n",
        "plt.title('% of Residents with Limited English Proficiency vs. Residential Noise Complaints')\n",
        "plt.xlabel('% of Residents with Limited English Proficiency in each Community District')\n",
        "plt.ylabel('Residential Noise Complaints')\n",
        "plt.legend()\n",
        "\n",
        "plt.show()"
      ],
      "execution_count": 52,
      "outputs": [
        {
          "output_type": "display_data",
          "data": {
            "image/png": "[encoded data removed]",
            "text/plain": [
              "<Figure size 1080x432 with 1 Axes>"
            ]
          },
          "metadata": {
            "tags": []
          }
        }
      ]
    },
    {
      "cell_type": "markdown",
      "metadata": {
        "id": "WI6S7LpBgkIl",
        "colab_type": "text"
      },
      "source": [
        "**Step 9**. Write a paragraph explaining the results of your analysis? Have you found a meaningful relationship?"
      ]
    },
    {
      "cell_type": "markdown",
      "metadata": {
        "id": "VPuLZnkI7xdJ",
        "colab_type": "text"
      },
      "source": [
        "My hypothesis is not supported by the data, and I have not found a meaningful relationship. The relevant coefficeint has a p-value of .456, so it not possible to reject the null hypothesis that there is no relationship between the percentage of residents with limited English proficiency and the number of residential noise complaints. I had thought that neighborhoods with a higher percentage of residents with limited English proficiency would have fewer complaints, but that is not the case. One new hypothesis I have is that there are two countervailing effects. While neighborhoods with a higher percentage of residents with less English proficiency may be less likely to make noise complaints all else equal, there may also be more noise in those neighborhoods because many other countries have cultures with more lively streets than the United States."
      ]
    }
  ]
}
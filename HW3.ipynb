{
  "nbformat": 4,
  "nbformat_minor": 0,
  "metadata": {
    "colab": {
      "name": "HW3.ipynb",
      "provenance": [],
      "include_colab_link": true
    },
    "kernelspec": {
      "name": "python3",
      "display_name": "Python 3"
    }
  },
  "cells": [
    {
      "cell_type": "markdown",
      "metadata": {
        "id": "view-in-github",
        "colab_type": "text"
      },
      "source": [
        "<a href=\"https://colab.research.google.com/github/bbwolcott/nyu-python-public-policy/blob/master/HW3.ipynb\" target=\"_parent\"><img src=\"https://colab.research.google.com/assets/colab-badge.svg\" alt=\"Open In Colab\"/></a>"
      ]
    },
    {
      "cell_type": "code",
      "metadata": {
        "id": "WrK_KU2ggiOW",
        "colab_type": "code",
        "colab": {
          "base_uri": "https://localhost:8080/",
          "height": 34
        },
        "outputId": "66538457-7c47-4b97-83ca-35124c79707a"
      },
      "source": [
        "import pandas as pd\n",
        "from google.colab import drive\n",
        "drive.mount('/content/drive')\n",
        "df = pd.read_csv('/content/drive/My Drive/Data for Python/cleaned_311_data_hw3.csv', header='infer')"
      ],
      "execution_count": 69,
      "outputs": [
        {
          "output_type": "stream",
          "text": [
            "Drive already mounted at /content/drive; to attempt to forcibly remount, call drive.mount(\"/content/drive\", force_remount=True).\n"
          ],
          "name": "stdout"
        }
      ]
    },
    {
      "cell_type": "code",
      "metadata": {
        "id": "eo354YzlhIXF",
        "colab_type": "code",
        "colab": {}
      },
      "source": [
        "# You can use pd.set_option() to make sure you see all the rows in your dataframe\n",
        "pd.set_option('display.max_columns', None)  # or 1000\n",
        "pd.set_option('display.max_rows', None)  # or 1000\n",
        "pd.set_option('display.max_colwidth', -1)  # or 199"
      ],
      "execution_count": 0,
      "outputs": []
    },
    {
      "cell_type": "markdown",
      "metadata": {
        "id": "o8AK5Zpxp0nG",
        "colab_type": "text"
      },
      "source": [
        "- **Step 1**. Create a function that checks each row in the 311 dataframe to see if the word \"graffiti\" is present in either the `complaint_type` value or `descriptor` value. Both columns may contain the word, so you should check both. If the word \"graffiti\" is found, the function should return the boolean value True. If \"graffiti\" is not found, the function should return the boolean value False.\n",
        "  - Hint 1: The same way that we checked if the string \"BRONX\" existed in the `community_board` value in the `cb_counts` table during the lecture, you can check if \"graffiti\" exists in the `descriptor` or `complaint_type` values.\n",
        "  - Hint 2: The `descriptor` column contains some null/NaN values. You'll have trouble running a function on these. Before your function checks if \"graffiti\" is present in `descriptor`, the function should make sure that a `descriptor` value exists using `pd.notnull(row.descriptor)`\n",
        "  - Hint 3: Capitalization may be inconsistent. It could help to use `.lower()` to convert strings to lowercase."
      ]
    },
    {
      "cell_type": "code",
      "metadata": {
        "id": "R7OPhrXqhamo",
        "colab_type": "code",
        "colab": {}
      },
      "source": [
        "# Create a function called grafitti return TRUE if grafitti is in descriptor or complaint_type\n",
        "  def graffiti(row):\n",
        "    if pd.notnull(row.descriptor):\n",
        "      if 'graffiti' in row.descriptor.lower():\n",
        "        return 'True'\n",
        "      elif 'graffiti' in row.complaint_type.lower():\n",
        "        return 'True'\n",
        "      else:\n",
        "        return 'False'"
      ],
      "execution_count": 0,
      "outputs": []
    },
    {
      "cell_type": "code",
      "metadata": {
        "id": "V6k8mkvLn5MB",
        "colab_type": "code",
        "colab": {}
      },
      "source": [
        "df['graffiti_flag'] = df.apply(graffiti, axis=1)\n",
        "df.head()"
      ],
      "execution_count": 0,
      "outputs": []
    },
    {
      "cell_type": "markdown",
      "metadata": {
        "id": "4Eb23dalp3Qm",
        "colab_type": "text"
      },
      "source": [
        "- **Step 2**. Apply the function created in Step 1 to the 311 dataframe and create a new column called `graffiti_flag` that captures the output from the function.\n",
        "  - Tip: There are two checks you can use to confirm that the function worked as expected.\n",
        "    - Group by `graffiti_flag` to make sure there are records tagged as True.\n",
        "    - Using only the records where `graffiti_flag` is True (`sample[sample.grafitti_flag]`), group by `complaint_type` to make sure that more than one `complaint_type` is included."
      ]
    },
    {
      "cell_type": "code",
      "metadata": {
        "id": "ADw6gnU7sYW_",
        "colab_type": "code",
        "colab": {}
      },
      "source": [
        "df_check1=df.groupby('graffiti_flag').size().reset_index(name='count')\n",
        "df_check1"
      ],
      "execution_count": 0,
      "outputs": []
    },
    {
      "cell_type": "code",
      "metadata": {
        "id": "un1_vAmjxFCQ",
        "colab_type": "code",
        "colab": {}
      },
      "source": [
        "df_check2 = df[df.graffiti_flag=='True'].groupby('complaint_type').size().reset_index(name='count')\n",
        "df_check2"
      ],
      "execution_count": 0,
      "outputs": []
    },
    {
      "cell_type": "markdown",
      "metadata": {
        "id": "VEL9qDgkq0Zm",
        "colab_type": "text"
      },
      "source": [
        "- **Step 3**. Create another dataframe `df_graffiti` that only contains records where `graffiti_flag` is True. `df_graffiti = df[df.grafitti_flag]`"
      ]
    },
    {
      "cell_type": "code",
      "metadata": {
        "id": "ZVvJiapIq6RL",
        "colab_type": "code",
        "colab": {}
      },
      "source": [
        "df_graffiti = df[df.graffiti_flag=='True']\n",
        "df_graffiti.head()"
      ],
      "execution_count": 0,
      "outputs": []
    },
    {
      "cell_type": "markdown",
      "metadata": {
        "id": "OTl9qETBrOPw",
        "colab_type": "text"
      },
      "source": [
        "- **Step 4**. Group your dataframe `df_graffiti` to get the count of requests per `community_board`. Use `.nlargest()` to identify which Community District has the highest count."
      ]
    },
    {
      "cell_type": "code",
      "metadata": {
        "id": "oX8P2-hjrSzM",
        "colab_type": "code",
        "colab": {
          "base_uri": "https://localhost:8080/",
          "height": 80
        },
        "outputId": "fb2459ba-ad81-4cae-a769-7160393c6ada"
      },
      "source": [
        "df_graffiti_cb=df_graffiti.groupby('community_board').size().reset_index(name='count_of_graffiti_complaints')\n",
        "df_graffiti_cb.nlargest(1, 'count_of_graffiti_complaints')"
      ],
      "execution_count": 114,
      "outputs": [
        {
          "output_type": "execute_result",
          "data": {
            "text/html": [
              "<div>\n",
              "<style scoped>\n",
              "    .dataframe tbody tr th:only-of-type {\n",
              "        vertical-align: middle;\n",
              "    }\n",
              "\n",
              "    .dataframe tbody tr th {\n",
              "        vertical-align: top;\n",
              "    }\n",
              "\n",
              "    .dataframe thead th {\n",
              "        text-align: right;\n",
              "    }\n",
              "</style>\n",
              "<table border=\"1\" class=\"dataframe\">\n",
              "  <thead>\n",
              "    <tr style=\"text-align: right;\">\n",
              "      <th></th>\n",
              "      <th>community_board</th>\n",
              "      <th>count_of_graffiti_complaints</th>\n",
              "    </tr>\n",
              "  </thead>\n",
              "  <tbody>\n",
              "    <tr>\n",
              "      <th>2</th>\n",
              "      <td>01 BROOKLYN</td>\n",
              "      <td>1797</td>\n",
              "    </tr>\n",
              "  </tbody>\n",
              "</table>\n",
              "</div>"
            ],
            "text/plain": [
              "  community_board  count_of_graffiti_complaints\n",
              "2  01 BROOKLYN     1797                        "
            ]
          },
          "metadata": {
            "tags": []
          },
          "execution_count": 114
        }
      ]
    }
  ]
}